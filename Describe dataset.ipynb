{
 "cells": [
  {
   "cell_type": "code",
   "execution_count": 1,
   "metadata": {},
   "outputs": [],
   "source": [
    "import numpy as np\n",
    "import datetime as dt\n",
    "import pandas as pd\n",
    "import matplotlib.pyplot as plt \n",
    "import seaborn as sns"
   ]
  },
  {
   "cell_type": "code",
   "execution_count": 2,
   "metadata": {},
   "outputs": [
    {
     "data": {
      "text/html": [
       "<div>\n",
       "<style scoped>\n",
       "    .dataframe tbody tr th:only-of-type {\n",
       "        vertical-align: middle;\n",
       "    }\n",
       "\n",
       "    .dataframe tbody tr th {\n",
       "        vertical-align: top;\n",
       "    }\n",
       "\n",
       "    .dataframe thead th {\n",
       "        text-align: right;\n",
       "    }\n",
       "</style>\n",
       "<table border=\"1\" class=\"dataframe\">\n",
       "  <thead>\n",
       "    <tr style=\"text-align: right;\">\n",
       "      <th></th>\n",
       "      <th>ID</th>\n",
       "      <th>year</th>\n",
       "      <th>quarter</th>\n",
       "      <th>time</th>\n",
       "      <th>name</th>\n",
       "      <th>assets</th>\n",
       "      <th>sk_a</th>\n",
       "      <th>hh_dep_a</th>\n",
       "      <th>hh_dep_liab</th>\n",
       "      <th>gov_sec_a</th>\n",
       "      <th>...</th>\n",
       "      <th>credit_to_hh_a</th>\n",
       "      <th>mbk_a</th>\n",
       "      <th>res_a</th>\n",
       "      <th>delayed_nbs_credit</th>\n",
       "      <th>overdue_liab</th>\n",
       "      <th>liab_bank_ratio</th>\n",
       "      <th>marketdebt_liab</th>\n",
       "      <th>foreign_assets_a</th>\n",
       "      <th>H1</th>\n",
       "      <th>default</th>\n",
       "    </tr>\n",
       "  </thead>\n",
       "  <tbody>\n",
       "    <tr>\n",
       "      <th>0</th>\n",
       "      <td>1</td>\n",
       "      <td>2013</td>\n",
       "      <td>1</td>\n",
       "      <td>2013-1</td>\n",
       "      <td>ЮниКредит Банк</td>\n",
       "      <td>753567.701</td>\n",
       "      <td>0.151655</td>\n",
       "      <td>0.039018</td>\n",
       "      <td>0.045994</td>\n",
       "      <td>0.010932</td>\n",
       "      <td>...</td>\n",
       "      <td>0.154872</td>\n",
       "      <td>0.131371</td>\n",
       "      <td>0.028859</td>\n",
       "      <td>0.029169</td>\n",
       "      <td>0.0</td>\n",
       "      <td>0.208014</td>\n",
       "      <td>0.012886</td>\n",
       "      <td>0.222936</td>\n",
       "      <td>13.35</td>\n",
       "      <td>0</td>\n",
       "    </tr>\n",
       "    <tr>\n",
       "      <th>1</th>\n",
       "      <td>2</td>\n",
       "      <td>2013</td>\n",
       "      <td>1</td>\n",
       "      <td>2013-1</td>\n",
       "      <td>Викинг</td>\n",
       "      <td>1373.610</td>\n",
       "      <td>0.433709</td>\n",
       "      <td>0.196924</td>\n",
       "      <td>0.347744</td>\n",
       "      <td>0.000000</td>\n",
       "      <td>...</td>\n",
       "      <td>0.027863</td>\n",
       "      <td>0.003699</td>\n",
       "      <td>0.229133</td>\n",
       "      <td>0.013980</td>\n",
       "      <td>0.0</td>\n",
       "      <td>0.000023</td>\n",
       "      <td>0.000000</td>\n",
       "      <td>0.004827</td>\n",
       "      <td>32.33</td>\n",
       "      <td>0</td>\n",
       "    </tr>\n",
       "    <tr>\n",
       "      <th>2</th>\n",
       "      <td>5</td>\n",
       "      <td>2013</td>\n",
       "      <td>1</td>\n",
       "      <td>2013-1</td>\n",
       "      <td>Кредит-Москва</td>\n",
       "      <td>8149.418</td>\n",
       "      <td>0.083669</td>\n",
       "      <td>0.358884</td>\n",
       "      <td>0.391653</td>\n",
       "      <td>0.000000</td>\n",
       "      <td>...</td>\n",
       "      <td>0.055919</td>\n",
       "      <td>0.003185</td>\n",
       "      <td>0.009481</td>\n",
       "      <td>0.014487</td>\n",
       "      <td>0.0</td>\n",
       "      <td>0.084433</td>\n",
       "      <td>0.000000</td>\n",
       "      <td>0.105028</td>\n",
       "      <td>12.35</td>\n",
       "      <td>0</td>\n",
       "    </tr>\n",
       "    <tr>\n",
       "      <th>3</th>\n",
       "      <td>18</td>\n",
       "      <td>2013</td>\n",
       "      <td>1</td>\n",
       "      <td>2013-1</td>\n",
       "      <td>Стройкредит</td>\n",
       "      <td>22678.618</td>\n",
       "      <td>0.093518</td>\n",
       "      <td>0.534391</td>\n",
       "      <td>0.589522</td>\n",
       "      <td>0.009081</td>\n",
       "      <td>...</td>\n",
       "      <td>0.095822</td>\n",
       "      <td>0.001155</td>\n",
       "      <td>0.028217</td>\n",
       "      <td>0.127012</td>\n",
       "      <td>0.0</td>\n",
       "      <td>0.010397</td>\n",
       "      <td>0.004694</td>\n",
       "      <td>0.050228</td>\n",
       "      <td>13.53</td>\n",
       "      <td>1</td>\n",
       "    </tr>\n",
       "    <tr>\n",
       "      <th>4</th>\n",
       "      <td>21</td>\n",
       "      <td>2013</td>\n",
       "      <td>1</td>\n",
       "      <td>2013-1</td>\n",
       "      <td>ПТБ</td>\n",
       "      <td>1163.302</td>\n",
       "      <td>0.186183</td>\n",
       "      <td>0.345611</td>\n",
       "      <td>0.424679</td>\n",
       "      <td>0.000000</td>\n",
       "      <td>...</td>\n",
       "      <td>0.119681</td>\n",
       "      <td>0.061893</td>\n",
       "      <td>0.116487</td>\n",
       "      <td>0.049197</td>\n",
       "      <td>0.0</td>\n",
       "      <td>0.000000</td>\n",
       "      <td>0.000000</td>\n",
       "      <td>0.002487</td>\n",
       "      <td>22.39</td>\n",
       "      <td>0</td>\n",
       "    </tr>\n",
       "  </tbody>\n",
       "</table>\n",
       "<p>5 rows × 26 columns</p>\n",
       "</div>"
      ],
      "text/plain": [
       "   ID  year  quarter    time            name      assets      sk_a  hh_dep_a  \\\n",
       "0   1  2013        1  2013-1  ЮниКредит Банк  753567.701  0.151655  0.039018   \n",
       "1   2  2013        1  2013-1          Викинг    1373.610  0.433709  0.196924   \n",
       "2   5  2013        1  2013-1   Кредит-Москва    8149.418  0.083669  0.358884   \n",
       "3  18  2013        1  2013-1     Стройкредит   22678.618  0.093518  0.534391   \n",
       "4  21  2013        1  2013-1             ПТБ    1163.302  0.186183  0.345611   \n",
       "\n",
       "   hh_dep_liab  gov_sec_a   ...     credit_to_hh_a     mbk_a     res_a  \\\n",
       "0     0.045994   0.010932   ...           0.154872  0.131371  0.028859   \n",
       "1     0.347744   0.000000   ...           0.027863  0.003699  0.229133   \n",
       "2     0.391653   0.000000   ...           0.055919  0.003185  0.009481   \n",
       "3     0.589522   0.009081   ...           0.095822  0.001155  0.028217   \n",
       "4     0.424679   0.000000   ...           0.119681  0.061893  0.116487   \n",
       "\n",
       "   delayed_nbs_credit  overdue_liab  liab_bank_ratio  marketdebt_liab  \\\n",
       "0            0.029169           0.0         0.208014         0.012886   \n",
       "1            0.013980           0.0         0.000023         0.000000   \n",
       "2            0.014487           0.0         0.084433         0.000000   \n",
       "3            0.127012           0.0         0.010397         0.004694   \n",
       "4            0.049197           0.0         0.000000         0.000000   \n",
       "\n",
       "   foreign_assets_a     H1  default  \n",
       "0          0.222936  13.35        0  \n",
       "1          0.004827  32.33        0  \n",
       "2          0.105028  12.35        0  \n",
       "3          0.050228  13.53        1  \n",
       "4          0.002487  22.39        0  \n",
       "\n",
       "[5 rows x 26 columns]"
      ]
     },
     "execution_count": 2,
     "metadata": {},
     "output_type": "execute_result"
    }
   ],
   "source": [
    "defaults = pd.read_excel('default.xlsx', sheet=0)\n",
    "fordefaults.head()"
   ]
  },
  {
   "cell_type": "code",
   "execution_count": 22,
   "metadata": {},
   "outputs": [
    {
     "data": {
      "text/html": [
       "<div>\n",
       "<style scoped>\n",
       "    .dataframe tbody tr th:only-of-type {\n",
       "        vertical-align: middle;\n",
       "    }\n",
       "\n",
       "    .dataframe tbody tr th {\n",
       "        vertical-align: top;\n",
       "    }\n",
       "\n",
       "    .dataframe thead th {\n",
       "        text-align: right;\n",
       "    }\n",
       "</style>\n",
       "<table border=\"1\" class=\"dataframe\">\n",
       "  <thead>\n",
       "    <tr style=\"text-align: right;\">\n",
       "      <th></th>\n",
       "      <th>ID</th>\n",
       "      <th>year</th>\n",
       "      <th>quarter</th>\n",
       "      <th>assets</th>\n",
       "      <th>sk_a</th>\n",
       "      <th>hh_dep_a</th>\n",
       "      <th>hh_dep_liab</th>\n",
       "      <th>gov_sec_a</th>\n",
       "      <th>nongov_sec_a</th>\n",
       "      <th>cor_acc_a</th>\n",
       "      <th>...</th>\n",
       "      <th>credit_to_hh_a</th>\n",
       "      <th>mbk_a</th>\n",
       "      <th>res_a</th>\n",
       "      <th>delayed_nbs_credit</th>\n",
       "      <th>overdue_liab</th>\n",
       "      <th>liab_bank_ratio</th>\n",
       "      <th>marketdebt_liab</th>\n",
       "      <th>foreign_assets_a</th>\n",
       "      <th>H1</th>\n",
       "      <th>default</th>\n",
       "    </tr>\n",
       "  </thead>\n",
       "  <tbody>\n",
       "    <tr>\n",
       "      <th>count</th>\n",
       "      <td>13133.000000</td>\n",
       "      <td>13133.000000</td>\n",
       "      <td>13133.000000</td>\n",
       "      <td>1.313300e+04</td>\n",
       "      <td>13133.000000</td>\n",
       "      <td>13133.000000</td>\n",
       "      <td>13132.000000</td>\n",
       "      <td>13132.000000</td>\n",
       "      <td>13133.000000</td>\n",
       "      <td>13132.000000</td>\n",
       "      <td>...</td>\n",
       "      <td>13133.000000</td>\n",
       "      <td>13132.000000</td>\n",
       "      <td>13133.000000</td>\n",
       "      <td>13133.000000</td>\n",
       "      <td>13131.000000</td>\n",
       "      <td>13131.000000</td>\n",
       "      <td>13131.000000</td>\n",
       "      <td>13132.000000</td>\n",
       "      <td>12917.000000</td>\n",
       "      <td>13133.000000</td>\n",
       "    </tr>\n",
       "    <tr>\n",
       "      <th>mean</th>\n",
       "      <td>2128.994289</td>\n",
       "      <td>2014.723902</td>\n",
       "      <td>2.459377</td>\n",
       "      <td>9.992805e+04</td>\n",
       "      <td>0.229179</td>\n",
       "      <td>0.295632</td>\n",
       "      <td>0.363004</td>\n",
       "      <td>0.020764</td>\n",
       "      <td>0.084245</td>\n",
       "      <td>0.116796</td>\n",
       "      <td>...</td>\n",
       "      <td>0.153771</td>\n",
       "      <td>0.082388</td>\n",
       "      <td>0.077452</td>\n",
       "      <td>-12.433145</td>\n",
       "      <td>0.000040</td>\n",
       "      <td>0.106946</td>\n",
       "      <td>0.048749</td>\n",
       "      <td>0.058361</td>\n",
       "      <td>25.699008</td>\n",
       "      <td>0.028021</td>\n",
       "    </tr>\n",
       "    <tr>\n",
       "      <th>std</th>\n",
       "      <td>1038.241810</td>\n",
       "      <td>1.397663</td>\n",
       "      <td>1.116009</td>\n",
       "      <td>8.821002e+05</td>\n",
       "      <td>0.188897</td>\n",
       "      <td>0.226579</td>\n",
       "      <td>0.263980</td>\n",
       "      <td>0.046330</td>\n",
       "      <td>0.128766</td>\n",
       "      <td>0.118819</td>\n",
       "      <td>...</td>\n",
       "      <td>0.181977</td>\n",
       "      <td>0.131323</td>\n",
       "      <td>0.102839</td>\n",
       "      <td>2061.772053</td>\n",
       "      <td>0.001674</td>\n",
       "      <td>0.194531</td>\n",
       "      <td>0.212855</td>\n",
       "      <td>0.106324</td>\n",
       "      <td>23.382410</td>\n",
       "      <td>0.165039</td>\n",
       "    </tr>\n",
       "    <tr>\n",
       "      <th>min</th>\n",
       "      <td>1.000000</td>\n",
       "      <td>2013.000000</td>\n",
       "      <td>1.000000</td>\n",
       "      <td>1.536020e+02</td>\n",
       "      <td>-2.887265</td>\n",
       "      <td>0.000000</td>\n",
       "      <td>0.000000</td>\n",
       "      <td>0.000000</td>\n",
       "      <td>0.000000</td>\n",
       "      <td>-0.046454</td>\n",
       "      <td>...</td>\n",
       "      <td>0.000000</td>\n",
       "      <td>0.000000</td>\n",
       "      <td>0.000000</td>\n",
       "      <td>-227814.000000</td>\n",
       "      <td>0.000000</td>\n",
       "      <td>0.000000</td>\n",
       "      <td>0.000000</td>\n",
       "      <td>0.000000</td>\n",
       "      <td>0.000000</td>\n",
       "      <td>0.000000</td>\n",
       "    </tr>\n",
       "    <tr>\n",
       "      <th>25%</th>\n",
       "      <td>1165.000000</td>\n",
       "      <td>2013.000000</td>\n",
       "      <td>1.000000</td>\n",
       "      <td>1.663598e+03</td>\n",
       "      <td>0.109162</td>\n",
       "      <td>0.070968</td>\n",
       "      <td>0.104513</td>\n",
       "      <td>0.000000</td>\n",
       "      <td>0.000000</td>\n",
       "      <td>0.041848</td>\n",
       "      <td>...</td>\n",
       "      <td>0.033992</td>\n",
       "      <td>0.000613</td>\n",
       "      <td>0.025250</td>\n",
       "      <td>0.010220</td>\n",
       "      <td>0.000000</td>\n",
       "      <td>0.000000</td>\n",
       "      <td>0.000000</td>\n",
       "      <td>0.000000</td>\n",
       "      <td>12.780000</td>\n",
       "      <td>0.000000</td>\n",
       "    </tr>\n",
       "    <tr>\n",
       "      <th>50%</th>\n",
       "      <td>2388.000000</td>\n",
       "      <td>2015.000000</td>\n",
       "      <td>2.000000</td>\n",
       "      <td>4.764008e+03</td>\n",
       "      <td>0.166973</td>\n",
       "      <td>0.294515</td>\n",
       "      <td>0.379222</td>\n",
       "      <td>0.000000</td>\n",
       "      <td>0.021023</td>\n",
       "      <td>0.076915</td>\n",
       "      <td>...</td>\n",
       "      <td>0.094930</td>\n",
       "      <td>0.026381</td>\n",
       "      <td>0.050178</td>\n",
       "      <td>0.036272</td>\n",
       "      <td>0.000000</td>\n",
       "      <td>0.008932</td>\n",
       "      <td>0.004989</td>\n",
       "      <td>0.009840</td>\n",
       "      <td>17.900000</td>\n",
       "      <td>0.000000</td>\n",
       "    </tr>\n",
       "    <tr>\n",
       "      <th>75%</th>\n",
       "      <td>3027.000000</td>\n",
       "      <td>2016.000000</td>\n",
       "      <td>3.000000</td>\n",
       "      <td>1.864274e+04</td>\n",
       "      <td>0.286046</td>\n",
       "      <td>0.482045</td>\n",
       "      <td>0.579871</td>\n",
       "      <td>0.020216</td>\n",
       "      <td>0.121825</td>\n",
       "      <td>0.147184</td>\n",
       "      <td>...</td>\n",
       "      <td>0.200106</td>\n",
       "      <td>0.107422</td>\n",
       "      <td>0.090830</td>\n",
       "      <td>0.083180</td>\n",
       "      <td>0.000000</td>\n",
       "      <td>0.129204</td>\n",
       "      <td>0.044709</td>\n",
       "      <td>0.071385</td>\n",
       "      <td>31.140000</td>\n",
       "      <td>0.000000</td>\n",
       "    </tr>\n",
       "    <tr>\n",
       "      <th>max</th>\n",
       "      <td>3531.000000</td>\n",
       "      <td>2017.000000</td>\n",
       "      <td>4.000000</td>\n",
       "      <td>2.322413e+07</td>\n",
       "      <td>0.999794</td>\n",
       "      <td>1.550064</td>\n",
       "      <td>0.957080</td>\n",
       "      <td>0.671994</td>\n",
       "      <td>1.003037</td>\n",
       "      <td>0.985418</td>\n",
       "      <td>...</td>\n",
       "      <td>1.270102</td>\n",
       "      <td>1.031107</td>\n",
       "      <td>3.178311</td>\n",
       "      <td>62655.000000</td>\n",
       "      <td>0.138754</td>\n",
       "      <td>1.351907</td>\n",
       "      <td>13.560652</td>\n",
       "      <td>1.067645</td>\n",
       "      <td>747.680000</td>\n",
       "      <td>1.000000</td>\n",
       "    </tr>\n",
       "  </tbody>\n",
       "</table>\n",
       "<p>8 rows × 24 columns</p>\n",
       "</div>"
      ],
      "text/plain": [
       "                 ID          year       quarter        assets          sk_a  \\\n",
       "count  13133.000000  13133.000000  13133.000000  1.313300e+04  13133.000000   \n",
       "mean    2128.994289   2014.723902      2.459377  9.992805e+04      0.229179   \n",
       "std     1038.241810      1.397663      1.116009  8.821002e+05      0.188897   \n",
       "min        1.000000   2013.000000      1.000000  1.536020e+02     -2.887265   \n",
       "25%     1165.000000   2013.000000      1.000000  1.663598e+03      0.109162   \n",
       "50%     2388.000000   2015.000000      2.000000  4.764008e+03      0.166973   \n",
       "75%     3027.000000   2016.000000      3.000000  1.864274e+04      0.286046   \n",
       "max     3531.000000   2017.000000      4.000000  2.322413e+07      0.999794   \n",
       "\n",
       "           hh_dep_a   hh_dep_liab     gov_sec_a  nongov_sec_a     cor_acc_a  \\\n",
       "count  13133.000000  13132.000000  13132.000000  13133.000000  13132.000000   \n",
       "mean       0.295632      0.363004      0.020764      0.084245      0.116796   \n",
       "std        0.226579      0.263980      0.046330      0.128766      0.118819   \n",
       "min        0.000000      0.000000      0.000000      0.000000     -0.046454   \n",
       "25%        0.070968      0.104513      0.000000      0.000000      0.041848   \n",
       "50%        0.294515      0.379222      0.000000      0.021023      0.076915   \n",
       "75%        0.482045      0.579871      0.020216      0.121825      0.147184   \n",
       "max        1.550064      0.957080      0.671994      1.003037      0.985418   \n",
       "\n",
       "           ...       credit_to_hh_a         mbk_a         res_a  \\\n",
       "count      ...         13133.000000  13132.000000  13133.000000   \n",
       "mean       ...             0.153771      0.082388      0.077452   \n",
       "std        ...             0.181977      0.131323      0.102839   \n",
       "min        ...             0.000000      0.000000      0.000000   \n",
       "25%        ...             0.033992      0.000613      0.025250   \n",
       "50%        ...             0.094930      0.026381      0.050178   \n",
       "75%        ...             0.200106      0.107422      0.090830   \n",
       "max        ...             1.270102      1.031107      3.178311   \n",
       "\n",
       "       delayed_nbs_credit  overdue_liab  liab_bank_ratio  marketdebt_liab  \\\n",
       "count        13133.000000  13131.000000     13131.000000     13131.000000   \n",
       "mean           -12.433145      0.000040         0.106946         0.048749   \n",
       "std           2061.772053      0.001674         0.194531         0.212855   \n",
       "min        -227814.000000      0.000000         0.000000         0.000000   \n",
       "25%              0.010220      0.000000         0.000000         0.000000   \n",
       "50%              0.036272      0.000000         0.008932         0.004989   \n",
       "75%              0.083180      0.000000         0.129204         0.044709   \n",
       "max          62655.000000      0.138754         1.351907        13.560652   \n",
       "\n",
       "       foreign_assets_a            H1       default  \n",
       "count      13132.000000  12917.000000  13133.000000  \n",
       "mean           0.058361     25.699008      0.028021  \n",
       "std            0.106324     23.382410      0.165039  \n",
       "min            0.000000      0.000000      0.000000  \n",
       "25%            0.000000     12.780000      0.000000  \n",
       "50%            0.009840     17.900000      0.000000  \n",
       "75%            0.071385     31.140000      0.000000  \n",
       "max            1.067645    747.680000      1.000000  \n",
       "\n",
       "[8 rows x 24 columns]"
      ]
     },
     "execution_count": 22,
     "metadata": {},
     "output_type": "execute_result"
    }
   ],
   "source": [
    "defaults.describe()"
   ]
  },
  {
   "cell_type": "code",
   "execution_count": 35,
   "metadata": {},
   "outputs": [],
   "source": [
    "col = list(defaults.columns)[5:-1]"
   ]
  },
  {
   "cell_type": "code",
   "execution_count": 37,
   "metadata": {},
   "outputs": [
    {
     "data": {
      "image/png": "[encoded data removed]",
      "text/plain": [
       "<Figure size 432x288 with 1 Axes>"
      ]
     },
     "metadata": {
      "needs_background": "light"
     },
     "output_type": "display_data"
    },
    {
     "data": {
      "image/png": "[encoded data removed]",
      "text/plain": [
       "<Figure size 432x288 with 1 Axes>"
      ]
     },
     "metadata": {
      "needs_background": "light"
     },
     "output_type": "display_data"
    },
    {
     "data": {
      "image/png": "[encoded data removed]",
      "text/plain": [
       "<Figure size 432x288 with 1 Axes>"
      ]
     },
     "metadata": {
      "needs_background": "light"
     },
     "output_type": "display_data"
    },
    {
     "data": {
      "image/png": "[encoded data removed]",
      "text/plain": [
       "<Figure size 432x288 with 1 Axes>"
      ]
     },
     "metadata": {
      "needs_background": "light"
     },
     "output_type": "display_data"
    },
    {
     "data": {
      "image/png": "[encoded data removed]",
      "text/plain": [
       "<Figure size 432x288 with 1 Axes>"
      ]
     },
     "metadata": {
      "needs_background": "light"
     },
     "output_type": "display_data"
    },
    {
     "data": {
      "image/png": "[encoded data removed]",
      "text/plain": [
       "<Figure size 432x288 with 1 Axes>"
      ]
     },
     "metadata": {
      "needs_background": "light"
     },
     "output_type": "display_data"
    },
    {
     "data": {
      "image/png": "[encoded data removed]",
      "text/plain": [
       "<Figure size 432x288 with 1 Axes>"
      ]
     },
     "metadata": {
      "needs_background": "light"
     },
     "output_type": "display_data"
    },
    {
     "data": {
      "image/png": "[encoded data removed]",
      "text/plain": [
       "<Figure size 432x288 with 1 Axes>"
      ]
     },
     "metadata": {
      "needs_background": "light"
     },
     "output_type": "display_data"
    },
    {
     "data": {
      "image/png": "[encoded data removed]",
      "text/plain": [
       "<Figure size 432x288 with 1 Axes>"
      ]
     },
     "metadata": {
      "needs_background": "light"
     },
     "output_type": "display_data"
    },
    {
     "data": {
      "image/png": "[encoded data removed]",
      "text/plain": [
       "<Figure size 432x288 with 1 Axes>"
      ]
     },
     "metadata": {
      "needs_background": "light"
     },
     "output_type": "display_data"
    },
    {
     "data": {
      "image/png": "[encoded data removed]",
      "text/plain": [
       "<Figure size 432x288 with 1 Axes>"
      ]
     },
     "metadata": {
      "needs_background": "light"
     },
     "output_type": "display_data"
    },
    {
     "data": {
      "image/png": "[encoded data removed]",
      "text/plain": [
       "<Figure size 432x288 with 1 Axes>"
      ]
     },
     "metadata": {
      "needs_background": "light"
     },
     "output_type": "display_data"
    },
    {
     "data": {
      "image/png": "[encoded data removed]",
      "text/plain": [
       "<Figure size 432x288 with 1 Axes>"
      ]
     },
     "metadata": {
      "needs_background": "light"
     },
     "output_type": "display_data"
    },
    {
     "data": {
      "image/png": "[encoded data removed]",
      "text/plain": [
       "<Figure size 432x288 with 1 Axes>"
      ]
     },
     "metadata": {
      "needs_background": "light"
     },
     "output_type": "display_data"
    },
    {
     "data": {
      "image/png": "[encoded data removed]",
      "text/plain": [
       "<Figure size 432x288 with 1 Axes>"
      ]
     },
     "metadata": {
      "needs_background": "light"
     },
     "output_type": "display_data"
    },
    {
     "data": {
      "image/png": "[encoded data removed]",
      "text/plain": [
       "<Figure size 432x288 with 1 Axes>"
      ]
     },
     "metadata": {
      "needs_background": "light"
     },
     "output_type": "display_data"
    },
    {
     "data": {
      "image/png": "[encoded data removed]",
      "text/plain": [
       "<Figure size 432x288 with 1 Axes>"
      ]
     },
     "metadata": {
      "needs_background": "light"
     },
     "output_type": "display_data"
    },
    {
     "data": {
      "image/png": "[encoded data removed]",
      "text/plain": [
       "<Figure size 432x288 with 1 Axes>"
      ]
     },
     "metadata": {
      "needs_background": "light"
     },
     "output_type": "display_data"
    },
    {
     "data": {
      "image/png": "[encoded data removed]",
      "text/plain": [
       "<Figure size 432x288 with 1 Axes>"
      ]
     },
     "metadata": {
      "needs_background": "light"
     },
     "output_type": "display_data"
    },
    {
     "data": {
      "image/png": "[encoded data removed]",
      "text/plain": [
       "<Figure size 432x288 with 1 Axes>"
      ]
     },
     "metadata": {
      "needs_background": "light"
     },
     "output_type": "display_data"
    }
   ],
   "source": [
    "for i in col:\n",
    "    plt.figure()\n",
    "    defaults.boxplot([i])"
   ]
  },
  {
   "cell_type": "code",
   "execution_count": null,
   "metadata": {},
   "outputs": [],
   "source": []
  }
 ],
 "metadata": {
  "kernelspec": {
   "display_name": "Python 3",
   "language": "python",
   "name": "python3"
  },
  "language_info": {
   "codemirror_mode": {
    "name": "ipython",
    "version": 3
   },
   "file_extension": ".py",
   "mimetype": "text/x-python",
   "name": "python",
   "nbconvert_exporter": "python",
   "pygments_lexer": "ipython3",
   "version": "3.7.1"
  }
 },
 "nbformat": 4,
 "nbformat_minor": 2
}
